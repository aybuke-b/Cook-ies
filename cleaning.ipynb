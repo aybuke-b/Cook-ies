{
 "cells": [
  {
   "cell_type": "code",
   "execution_count": 1,
   "metadata": {},
   "outputs": [],
   "source": [
    "import polars as pl\n",
    "from ColumbianExchange.cleaning import clean_pipeline, clean_pays2"
   ]
  },
  {
   "cell_type": "code",
   "execution_count": 2,
   "metadata": {},
   "outputs": [],
   "source": [
    "df = pl.read_json(r\"data\\recette.json\")"
   ]
  },
  {
   "cell_type": "code",
   "execution_count": 3,
   "metadata": {},
   "outputs": [
    {
     "data": {
      "text/html": [
       "<div><style>\n",
       ".dataframe > thead > tr,\n",
       ".dataframe > tbody > tr {\n",
       "  text-align: right;\n",
       "  white-space: pre-wrap;\n",
       "}\n",
       "</style>\n",
       "<small>shape: (2_190, 11)</small><table border=\"1\" class=\"dataframe\"><thead><tr><th>nom</th><th>temps</th><th>niveau</th><th>cout</th><th>nb_comment</th><th>ingredient_nom</th><th>ingredient_qte</th><th>img</th><th>recette</th><th>comment</th><th>pays</th></tr><tr><td>str</td><td>str</td><td>str</td><td>str</td><td>str</td><td>list[str]</td><td>list[str]</td><td>str</td><td>list[str]</td><td>list[str]</td><td>str</td></tr></thead><tbody><tr><td>&quot;Alcool de pomm…</td><td>&quot;5 h &quot;</td><td>&quot;Difficile&quot;</td><td>&quot;0,77&quot;</td><td>&quot;0&quot;</td><td>[&quot;Pomme(s) de terre&quot;, &quot;Blé&quot;, &quot;Levure&quot;]</td><td>[&quot;10 kg&quot;, &quot;1 kg&quot;, &quot; &quot;]</td><td>&quot;https://img.cu…</td><td>[&quot;Lavez les pommes de terre et faites-les cuire sans les peler pendant une bonne heure. Jetez ensuite l’eau de cuisson et écrasez bien les pommes de terre. Remettez-les ensuite dans une marmite en ajoutant 20 l d’eau. Mélangez bien et faites chauffer jusqu’à 66°C. Puis ajoutez 1 kg de blé écrasé, mélangez bien, couvrez, et remuez régulièrement pendant 2 heures, jusqu’à ce que la température redescende à 30°C. Les enzymes contenues dans le blé vont décomposer l’amidon des pommes de terre.&quot;, &quot;Filtrez la purée et récupérez le liquide. Ajoutez les levures pour fermenter l’alcool. Remuez bien, et laissez le liquide dans une pièce entre 27 et 30°C. Ce processus prend de 3 à 5 jours.&quot;, … &quot;Enfin, diluez votre alcool de pomme de terre avec de l’eau purifiée pour obtenir le degré d’alcool que vous souhaitez, et buvez avec modération. &quot;]</td><td>[]</td><td>&quot;https://www.cu…</td></tr><tr><td>&quot;Biscuits allem…</td><td>&quot;52 min&quot;</td><td>&quot;Facile&quot;</td><td>&quot;0,72&quot;</td><td>&quot;9&quot;</td><td>[&quot;Farine&quot;, &quot;Cassonade&quot;, … &quot;Blanc(s) d&#x27;œuf(s)&quot;]</td><td>[&quot;170 g&quot;, &quot;85 g&quot;, … &quot;1 &quot;]</td><td>&quot;https://img.cu…</td><td>[&quot;Préchauffez le four th.6 (180°C). Dans un saladier, mettez la farine, le gingembre, la cannelle et le mélange d&#x27;épices. Ajoutez le beurre en morceaux et travaillez la pâte du bout des doigts jusqu&#x27;à ce que le mélange soit de consistance sableuse. &quot;, &quot;Incorporez le sucre cassonade. Mélangez le sirop de sucre de canne, le lait et le jaune d&#x27;oeuf dans un bol. Versez dans le saladier et remuez jusqu&#x27;à obtention d&#x27;une pâte molle. Posez la pâte sur un plan de travail fariné et pétrissez-la délicatement pendant quelques secondes pour la rendre homogène.   &quot;, … &quot;Pour le glaçage, incorporez dans un bol, peu à peu, le sucre glace au blanc d&#x27;oeuf afin d&#x27;obtenir un liquide épais. Versez cette préparation dans une poche à douille et nappez les biscuits de glaçage en réalisant la décoration de votre choix. Conservez ces biscuits allemands dans une boîte hermétique.&quot;]</td><td>[&quot;\n",
       "        SUPER!  A part petite panne de gaz juste au moment de la cuisson.....ils ont bien supporté d &#x27;attendre au frigo pendant une nuit....\n",
       "Merci !\n",
       "    &quot;, &quot;\n",
       "        C&#x27;est facile et beau ,trop cool\n",
       "    &quot;, … &quot;\n",
       "        Mmmm trop bon, je l&#x27;ai faite !\n",
       "    &quot;]</td><td>&quot;https://www.cu…</td></tr><tr><td>&quot;Biscuits bretz…</td><td>&quot;35 min&quot;</td><td>&quot;Facile&quot;</td><td>&quot;0,40&quot;</td><td>&quot;1&quot;</td><td>[&quot;Farine&quot;, &quot;Lait&quot;, … &quot;Gros sel&quot;]</td><td>[&quot;500 g&quot;, &quot;300 ml&quot;, … &quot; &quot;]</td><td>&quot;https://img.cu…</td><td>[&quot;Dans un grand saladier, mélangez la farine, la levure et 1,5 cuillères de sel.&quot;, &quot;Ajoutez le beurre et le lait puis pétrissez jusqu&#x27;à obtenir une boule de pâte lisse non collante.&quot;, … &quot;Laissez refroidir sur une grille et conservez les bretzels dans une boîte hermétique jusqu&#x27;à la dégustation.&quot;]</td><td>[&quot;\n",
       "        bonsoir,  \r\n",
       "en tant qu&#x27;Alsacienne je voudrais vous dire que ce ne sont pas ces bretzels qui vont avec cette recette mais ceux que l&#x27;on achète en grandes surfaces !!!! \n",
       "    &quot;]</td><td>&quot;https://www.cu…</td></tr><tr><td>&quot;Biscuits de No…</td><td>&quot;30 min&quot;</td><td>&quot;Facile&quot;</td><td>&quot;0,75&quot;</td><td>&quot;1&quot;</td><td>[&quot;Farine&quot;, &quot;Amande concassée&quot;, … &quot;Beurre&quot;]</td><td>[&quot;250 g&quot;, &quot;100 g&quot;, … &quot;50 g&quot;]</td><td>&quot;https://img.cu…</td><td>[&quot;Dans un saladier, mélangez la farine, le sucre et le miel. &quot;, &quot;Ajoutez l&#x27;oeuf et mélangez bien. &quot;, … &quot;Laissez sécher plusieurs heures. &quot;]</td><td>[&quot;\n",
       "        Pas assez de précisons dans la recette,  les écorces doivent elles être coupées tt petit? Le chocolat est bien trop epais pour mettre sur les biscuits si on suit cette recette....1 seul oeuf ne suffit pas, sinon la pâte n&#x27;est que de la poudre... \r\n",
       "\n",
       "    &quot;]</td><td>&quot;https://www.cu…</td></tr><tr><td>&quot;Boule de berli…</td><td>&quot;15 min&quot;</td><td>&quot;Intermédiaire&quot;</td><td>&quot;0,71&quot;</td><td>&quot;0&quot;</td><td>[&quot;Farine&quot;, &quot;Levure boulangère&quot;, … &quot;Beurre&quot;]</td><td>[&quot;300 g&quot;, &quot;1 Sachet&quot;, … &quot;50 g&quot;]</td><td>&quot;https://img.cu…</td><td>[&quot;Pour la pâte à beignets : Mélangez la farine et la levure dans un grand saladier. &quot;, &quot;Versez-y le sel et le sucre, puis remuez à nouveau. &quot;, … &quot;Mêlez et filmez au contact. &quot;]</td><td>[]</td><td>&quot;https://www.cu…</td></tr><tr><td>&quot;Boulettes de v…</td><td>&quot;30 min&quot;</td><td>&quot;Facile&quot;</td><td>&quot;1,60&quot;</td><td>&quot;2&quot;</td><td>[&quot;Viande de boeuf hachée&quot;, &quot;Oignon(s)&quot;, … &quot;Chapelure&quot;]</td><td>[&quot;400 g&quot;, &quot;1 &quot;, … &quot;3 c. à soupe&quot;]</td><td>&quot;https://img.cu…</td><td>[&quot;Pelez et hachez finement l&#x27;oignon et l&#x27;ail. Dans une poêle, faites chauffer un peu d&#x27;huile d&#x27;olive et faites-les revenir quelques minutes sans coloration. &quot;, &quot;Dans un saladier, mélangez à la main la viande hachée avec l&#x27;oignon et l’ail, les herbes ciselées, les œufs et la chapelure. Salez et poivrez.&quot;, … &quot;Faites chauffer 3 c. à soupe d&#x27;huile d&#x27;olive dans une sauteuse. Déposez-y les boulettes de viande et faites-les revenir pendant 10 minutes environ, jusqu&#x27;à ce qu&#x27;elles soient bien dorées. Pensez à retourner régulièrement vos boulettes afin de les cuire de manière homogène.&quot;]</td><td>[&quot;\n",
       "        Elles sont meilleures que celles que je mange habituellement, je ne les ai pas pané et je les ai cuites au airfryer 13min à 180 degrés. Très bonnes je vais voir ce soir si mon mari aime !\n",
       "    &quot;, &quot;\n",
       "        Très bon, elles ont eu du succès auprès de mon carnivore de mari ! Personnellement, je rajoute de la farce à la viande hachée, ça les rend un peu moins sèches.\n",
       "    &quot;]</td><td>&quot;https://www.cu…</td></tr><tr><td>&quot;Bretzel&quot;</td><td>&quot;55 min&quot;</td><td>&quot;Facile&quot;</td><td>&quot;0,75&quot;</td><td>&quot;1&quot;</td><td>[&quot;Farine T55&quot;, &quot;Bicarbonate de soude&quot;, … &quot;Gros sel&quot;]</td><td>[&quot;500 g&quot;, &quot;40 g&quot;, … &quot; &quot;]</td><td>&quot;https://img.cu…</td><td>[&quot;Dans un saladier ou au robot, mélangez la farine avec 2 c. à café de sel. Ajoutez la levure, le lait et le beurre. Pétrissez jusqu’à obtenir une pâte bien lisse. Couvrez avec un linge propre et laissez lever dans le four éteint durant 1h30.&quot;, &quot;Façonnez les bretzels en formant de longs boudins puis en les entrelaçant. &quot;, … &quot;Déposez les bretzels sur une plaque de four chemisée de papier de cuisson. Striez-les avec la pointe d’un couteau bien aiguisé, parsemez de gros sel et enfournez pour 15 min.&quot;]</td><td>[&quot;\n",
       "        Où sont les ingrédients ?\n",
       "    &quot;]</td><td>&quot;https://www.cu…</td></tr><tr><td>&quot;Bretzels au Ki…</td><td>&quot;1 h &quot;</td><td>&quot;Facile&quot;</td><td>&quot;\n",
       "\n",
       "\n",
       "&quot;</td><td>&quot;0&quot;</td><td>[&quot;Farine&quot;, &quot;Eau tiède&quot;, … &quot;Gros sel&quot;]</td><td>[&quot;500 g&quot;, &quot;150 ml&quot;, … &quot;1 c. à soupe&quot;]</td><td>&quot;https://img.cu…</td><td>[&quot;Dans le bol du robot, délayez la levure de boulangerie dans une cuillère à soupe d’eau tiède. Laissez reposer 15 minutes&quot;, &quot;Ajoutez alors la farine, le lait, le sucre en poudre, le restant d’eau tiède et le sel. Installez le crochet pétrisseur sur le robot et pétrissez 10 minutes à vitesse 1. Incorporez le beurre mou et coupé en morceaux en pétrissant pendant 5 minutes supplémentaires à vitesse 1. &quot;, … &quot;Parsemez la surface des bretzels de gros sel. Enfournez-les pendant 15 minutes et laissez-les tiédir. Vous pouvez déguster vos bretzels au Kitchenaid aussi bien tièdes que froids.&quot;]</td><td>[]</td><td>&quot;https://www.cu…</td></tr><tr><td>&quot;Brioche butchy…</td><td>&quot;45 min&quot;</td><td>&quot;Facile&quot;</td><td>&quot;\n",
       "\n",
       "\n",
       "&quot;</td><td>&quot;0&quot;</td><td>[&quot;Farine&quot;, &quot;Crème fraîche&quot;, … &quot;Lait&quot;]</td><td>[&quot;500 g&quot;, &quot;200 g&quot;, … &quot;1 c. à soupe&quot;]</td><td>&quot;https://img.cu…</td><td>[&quot;Préparez votre pâte à brioche butchy au Monsieur Cuisine en versant le lait tiède dans la cuve du robot. Ajoutez la levure de boulangerie et le sucre en poudre. Faites chauffer pendant 7 minutes à vitesse 1 et à 37°C.&quot;, &quot;Incorporez la crème fraîche et les œufs. Relancez le robot à 37°C et à vitesse 1 pendant 5 minutes.&quot;, … &quot;Préchauffez le four à 150°C. Enfournez la brioche butchy pendant 25 minutes. Laissez-la refroidir avant de la déguster.&quot;]</td><td>[]</td><td>&quot;https://www.cu…</td></tr><tr><td>&quot;Bûche de Noël …</td><td>&quot;2 h 22 min&quot;</td><td>&quot;Intermédiaire&quot;</td><td>&quot;1,80&quot;</td><td>&quot;1&quot;</td><td>[&quot;Chocolat&quot;, &quot;Blancs&quot;, … &quot;Chocolat&quot;]</td><td>[&quot; &quot;, &quot;5 c. à soupe&quot;, … &quot; &quot;]</td><td>&quot;https://img.cu…</td><td>[&quot;Pour le gâteau :  Préchauffez le four à th.7 (200 °C). &quot;, &quot;Mêlez les jaunes d’œufs et 125 g de sucre dans un bol jusqu’à l’obtention d’un mélange épais. Ajoutez la vanille et réservez. &quot;, … &quot;Retirez du feu et ajoutez le chocolat. Laissez reposer 5 min. Remuez pour obtenir une ganache lisse. Laissez refroidir 15 min. Étalez la ganache rafraîchie sur le gâteau roulé. Disposez dessus les écorces de chocolat. Couvrez la bûche de Noël forêt noire et remettez-la au réfrigérateur. &quot;]</td><td>[&quot;\n",
       "        bonjour, quel moule à gâteau , quelle taille pour le moule ?\n",
       "    &quot;]</td><td>&quot;https://www.cu…</td></tr><tr><td>&quot;Choucroute sim…</td><td>&quot;4 h &quot;</td><td>&quot;Facile&quot;</td><td>&quot;4,63&quot;</td><td>&quot;1&quot;</td><td>[&quot;Choucroute(s)&quot;, &quot;Pomme(s) de terre&quot;, … &quot;Vin blanc&quot;]</td><td>[&quot;2 kg&quot;, &quot;1 kg&quot;, … &quot;1 Bouteille(s)&quot;]</td><td>&quot;https://img.cu…</td><td>[&quot;Dans une grande cocotte en fonte, faites dorer à feu moyen les oignons et les morceaux de lard avec du beurre. Ajoutez la carotte râpée (facultatif).&quot;, &quot;Versez dessus un peu de vin blanc, ajoutez les 2 cubes de bouillon, et laissez mijoter 5 minutes.&quot;, … &quot;Lorsque la cuisson arrive à son terme (goûtez le chou pour voir s&#x27;il est assez fondant et s&#x27;il vous convient ainsi sinon laissez encore cuire un peu), ajoutez également sur le dessus vos saucisses knack piquées au couteau (pour éviter l&#x27;éclatement) et remettez à feu doux avec le couvercle pendant 10 minutes pour chauffer les saucisses.&quot;]</td><td>[&quot;\n",
       "        Si je puis me permettre, en tant qu&#x27;alsacienne: on fait une choucroute soit à la bière, soit au vin...mais sûrement pas en mélangeant les deux. Par ailleurs, les knacks se réchauffent tout simplement en les mettant 4-5 minutes dans une casserole d&#x27;eau bouillante (hors du feu, bien entendu).\n",
       "    &quot;]</td><td>&quot;https://www.cu…</td></tr><tr><td>&quot;Coeurs d&#x27;amand…</td><td>&quot;30 min&quot;</td><td>&quot;Facile&quot;</td><td>&quot;1,55&quot;</td><td>&quot;0&quot;</td><td>[&quot;Farine&quot;, &quot;Beurre&quot;, … &quot;Citron(s)&quot;]</td><td>[&quot;150 g&quot;, &quot;150 g&quot;, … &quot; zeste&quot;]</td><td>&quot;https://img.cu…</td><td>[&quot;Mélangez le beurre, le sucre et les zestes de citron.&quot;, &quot;Ajoutez la farine et les amandes et mettez au réfrigérateur pendant 1 heure.&quot;, … &quot;Laissez refroidir et dégustez.&quot;]</td><td>[]</td><td>&quot;https://www.cu…</td></tr><tr><td>&hellip;</td><td>&hellip;</td><td>&hellip;</td><td>&hellip;</td><td>&hellip;</td><td>&hellip;</td><td>&hellip;</td><td>&hellip;</td><td>&hellip;</td><td>&hellip;</td><td>&hellip;</td></tr><tr><td>&quot;Poulet au citr…</td><td>&quot;30 min&quot;</td><td>&quot;Facile&quot;</td><td>&quot;1,90&quot;</td><td>&quot;2&quot;</td><td>[&quot;Blanc(s) de poulet &quot;, &quot;Citron(s) vert(s)&quot;, … &quot;Sel poivre&quot;]</td><td>[&quot;4 &quot;, &quot;2 &quot;, … &quot; l&quot;]</td><td>&quot;https://img.cu…</td><td>[&quot;Pressez les citrons. &quot;, &quot;Dans un plat, disposez les blancs de poulet et arrosez-les de jus. Ajoutez l’huile. &quot;, … &quot;Servez.&quot;]</td><td>[&quot;\n",
       "        La viande donne un goût tendre et pas aussi fade. Recommandé dans un programme minceur ! Aucune calorie !\n",
       "    &quot;, &quot;\n",
       "        Très excellent ce Poulet au citron, surtout avec un accompagnement de la Poêlée aux champignons à l&#x27;ail-persil !\n",
       "    &quot;]</td><td>&quot;https://www.cu…</td></tr><tr><td>&quot;Poulet fafa&quot;</td><td>&quot;35 min&quot;</td><td>&quot;Facile&quot;</td><td>&quot;2,92&quot;</td><td>&quot;0&quot;</td><td>[&quot;Filet(s) de poulet&quot;, &quot;Pousse d&#x27;alfafa&quot;, … &quot;Sel, poivre&quot;]</td><td>[&quot;4 &quot;, &quot;1 kg&quot;, … &quot; &quot;]</td><td>&quot;https://img.cu…</td><td>[&quot;Pelez et émincez l’oignon. &quot;, &quot;Dans une poêle, faites fondre le beurre et versez l’oignon émincé. Une fois cuit, réservez.&quot;, … &quot;Servez votre poulet fafa bien chaud, accompagné de riz !&quot;]</td><td>[]</td><td>&quot;https://www.cu…</td></tr><tr><td>&quot;Punch Tahitien…</td><td>&quot;10 min&quot;</td><td>&quot;Facile&quot;</td><td>&quot;0,90&quot;</td><td>&quot;0&quot;</td><td>[&quot;Rhum&quot;, &quot;Jus d&#x27;ananas&quot;, … &quot;Vanille&quot;]</td><td>[&quot;4 dl&quot;, &quot;1 l&quot;, … &quot;2 gousse(s)&quot;]</td><td>&quot;https://img.cu…</td><td>[&quot;Faites tremper les gousses de vanille dans le rhum pendant au moins 2 mois.&quot;, &quot;Mélangez les ingrédients et laissez &quot;infuser&quot; 4 à 5 jours minimum au réfrigérateur. &quot;]</td><td>[]</td><td>&quot;https://www.cu…</td></tr><tr><td>&quot;Salade de bar …</td><td>&quot;15 min&quot;</td><td>&quot;Facile&quot;</td><td>&quot;4,50&quot;</td><td>&quot;0&quot;</td><td>[&quot;Filet de bar&quot;, &quot;Citron(s) vert(s)&quot;, … &quot;Fleur de sel&quot;]</td><td>[&quot;500 filets&quot;, &quot;4 &quot;, … &quot; &quot;]</td><td>&quot;https://img.cu…</td><td>[&quot;Faites lever les filets de bar sans la peau par votre poissonnier. Enlevez, si besoin est, les arêtes à l&#x27;aide d&#x27;une pince à épiler.&quot;, &quot;Rincez-les sous l&#x27;eau froide puis essuyez-les avec du papier absorbant. Coupez-les en morceaux et disposez-les dans un plat. Arrosez-les avec le jus des citrons verts, 2 c. à soupe d&#x27;huile de pépin de raisin, 1 c. à café de poivre vert, salez légèrement. Recouvrez le plat de film plastique et placez-le au réfrigérateur pendant 3 heures environ.&quot;, … &quot;Servez aussitôt.&quot;]</td><td>[]</td><td>&quot;https://www.cu…</td></tr><tr><td>&quot;Salade de crab…</td><td>&quot;20 min&quot;</td><td>&quot;Facile&quot;</td><td>&quot;3,50&quot;</td><td>&quot;0&quot;</td><td>[&quot;Crabe au naturel(s)&quot;, &quot;Avocat(s)&quot;, … &quot;Sel poivre&quot;]</td><td>[&quot;12 boîte(s)&quot;, &quot;1 c. à thé&quot;, … &quot; &quot;]</td><td>&quot;https://img.cu…</td><td>[&quot;Déterminez quatre faces à la mangue et les couper en prélevant le maximum de pulpe, hachurez l&#x27;intérieur avec la pointe d&#x27;un couteau et retournez la peau. &quot;, &quot;Epluchez l&#x27;ananas et le découper en fines tranches. Cassez la moly de coco en deux et en récupérer le lait. Râpez un peu de pulpe fraîche pour en parsemant la salade une fois terminée. Faites cuire les pinces de crabe 5 à 6 minutes à l&#x27;eau bouillante salée puis les décortiquez. Coupez l&#x27;avocat en fines tranches, citronnez-les aussitôt avec le jus d&#x27;un demi-citron.&quot;, … &quot;Arrosez de vinaigrette et parsemez de noix de coco râpée. Coupez le reste de pulpe de noix de coco en dés et les servir à l&#x27;apéritif. Vous pouvez remplacez les tranches d&#x27;ananas par des segments de pamplemousse dont on aura complétement retiré les peaux blanches.&quot;]</td><td>[]</td><td>&quot;https://www.cu…</td></tr><tr><td>&quot;Salade de thon…</td><td>&quot;25 min&quot;</td><td>&quot;Facile&quot;</td><td>&quot;3,50&quot;</td><td>&quot;0&quot;</td><td>[&quot;Vinaigre&quot;, &quot;Soja&quot;, … &quot;Sel poivre&quot;]</td><td>[&quot;1 c. à soupe&quot;, &quot;3 c. à soupe&quot;, … &quot; &quot;]</td><td>&quot;https://img.cu…</td><td>[&quot;Découpez le thon en petits morceaux, salez. Dans un saladier, faites macérer pendant 1 heure le thon avec le jus des citrons. &quot;, &quot;Ajoutez ensuite les oignons en lamelles, les carottes rapées, les tomates en lamelles et la ciboulette. &quot;, &quot;Videz le jus de citron, rincez et égouttez. Versez la sauce. Mélangez.&quot;]</td><td>[]</td><td>&quot;https://www.cu…</td></tr><tr><td>&quot;Salade tahitie…</td><td>&quot;20 min&quot;</td><td>&quot;Facile&quot;</td><td>&quot;3,20&quot;</td><td>&quot;0&quot;</td><td>[&quot;Poisson&quot;, &quot;Citron(s)&quot;, … &quot;Oignon(s) vert(s) &quot;]</td><td>[&quot;1 kg&quot;, &quot;6 &quot;, … &quot;3 &quot;]</td><td>&quot;https://img.cu…</td><td>[&quot;Coupez le poisson en petits morceaux. Laissez macérer 30 min dans le jus de citron. &quot;, &quot;Egouttez la chair et jetez le surplus de citron.&quot;, … &quot;Servez trés frais.   &quot;]</td><td>[]</td><td>&quot;https://www.cu…</td></tr><tr><td>&quot;Salade tahitie…</td><td>&quot;20 min&quot;</td><td>&quot;Facile&quot;</td><td>&quot;4,75&quot;</td><td>&quot;0&quot;</td><td>[&quot;Cabillaud&quot;, &quot;Papaye&quot;, … &quot;Sel poivre&quot;]</td><td>[&quot;600 filet&quot;, &quot;2 &quot;, … &quot; &quot;]</td><td>&quot;https://img.cu…</td><td>[&quot;Pressez les deux citrons jaunes et un vert. Versez le jus dans un saladier, ajoutez du poivre et une cuillerée d&#x27;huile et mélangez. &quot;, &quot;Coupez le poisson en petits cubes, mettez-les dans la marinade, couvrez et laissez au frais 30 min au moins.&quot;, … &quot;Egouttez le poisson, mettez-le dans un plat avec la salade, les boules de papaye, les oignons, les piments et le céleri. Parsemez de coriandre, arrosez d&#x27;un filet d&#x27;huile et décorez de tranches de citron vert.&quot;]</td><td>[]</td><td>&quot;https://www.cu…</td></tr><tr><td>&quot;Sole à la tahi…</td><td>&quot;30 min&quot;</td><td>&quot;Facile&quot;</td><td>&quot;3,20&quot;</td><td>&quot;1&quot;</td><td>[&quot;Filet de sole&quot;, &quot;Noix de coco(s)&quot;, … &quot;Sel poivre&quot;]</td><td>[&quot;1 filet&quot;, &quot;1 noix&quot;, … &quot; &quot;]</td><td>&quot;https://img.cu…</td><td>[&quot;Coupez les filets de sole en petits cubes et mettez-les dans un saladier.&quot;, &quot;Epluchez et rapez les carottes.&quot;, … &quot;Ajoutez le tout dans le saladier, poivrez, salez et rajoutez le persil et la ciboulette finement hachée. Mélangez bien le tout et laissez reposer dans le frigidaire au moins 24h voire 48h, c&#x27;est encore mieux. (le poisson cuit avec le citron).&quot;]</td><td>[&quot;\n",
       "        Cette recette se fait avec du thon principalement ! De plus, on ne laisse pas macérer 24 ou 48 heures car le poisson est trop cuit. \r\n",
       "Dans la réalité à Tahiti, le poisson est préparé juste avant de passer à table mais on peut le préparer 1 heure avant pour ceux qui préférent que le poissson soit un peu plus cuit. Mais c&#x27;est meilleur fait de suite !\n",
       "    &quot;]</td><td>&quot;https://www.cu…</td></tr><tr><td>&quot;Thon à la tahi…</td><td>&quot;40 min&quot;</td><td>&quot;Facile&quot;</td><td>&quot;4,50&quot;</td><td>&quot;3&quot;</td><td>[&quot;Thon frais&quot;, &quot;Poivron(s) vert(s)&quot;, … &quot;Huile de soja&quot;]</td><td>[&quot;600 g&quot;, &quot;0,25 &quot;, … &quot;1 c. à soupe&quot;]</td><td>&quot;https://img.cu…</td><td>[&quot;Nettoyez soigneusement le poisson : enlevez la peau et les arêtes ainsi que les parties noires ou grasses. &quot;, &quot;Coupez-le en petits cubes et trempez-les dans de l&#x27;eau salée avec la gousse d&#x27;ail.&quot;, … &quot;Disposez dans chaque assiette un peu préparation et versez un peu lait de coco bien frais avant de servir.&quot;]</td><td>[&quot;\n",
       "        la recette est mal expliquée, surtout la partie de la cuisson et l&#x27;ajout des ingrediants\n",
       "    &quot;, &quot;\n",
       "        Bonjour, il n&#x27;y a pas de cuisson à proprement parler. C&#x27;est le jus de citron qui va &quot;cuire&quot; le poisson. Selon ses goûts on peut prolonger le temps de macération du poisson pour avoir un thon plus ou moins &quot;cuit&quot;. En général je prépare cette recette la veille pour le lendemain et c&#x27;est toujours un pur régal. Bon appétit !\n",
       "    &quot;, &quot;\n",
       "        Bravo Michèle, enfin quelqu&#x27;un qui répond sur ce site, c&#x27;est remarquable et tout à votre honneur car cela est tellement rare !\n",
       "    &quot;]</td><td>&quot;https://www.cu…</td></tr><tr><td>&quot;Thon blanc au …</td><td>&quot;15 min&quot;</td><td>&quot;Facile&quot;</td><td>&quot;4,95&quot;</td><td>&quot;0&quot;</td><td>[&quot;Thon blanc&quot;, &quot;Citron(s) vert(s)&quot;, … &quot;Sel poivre&quot;]</td><td>[&quot;400 c&quot;, &quot;1 &quot;, … &quot; &quot;]</td><td>&quot;https://img.cu…</td><td>[&quot;Sur une planche de cuisine, taillez au couteau le thon en morceaux.&quot;, &quot;Disposez-le dans un saladier. &quot;, … &quot;Disposez un lit de laitue dans un saladier et mettez-y le poisson accompagné des crudités.&quot;]</td><td>[]</td><td>&quot;https://www.cu…</td></tr><tr><td>&quot;Thon rouge à l…</td><td>&quot;15 min&quot;</td><td>&quot;Facile&quot;</td><td>&quot;1,80&quot;</td><td>&quot;1&quot;</td><td>[&quot;Lait de coco&quot;, &quot;Thon rouge&quot;, … &quot;Jus de citron vert&quot;]</td><td>[&quot;0,5 l&quot;, &quot;600 g&quot;, … &quot;4 &quot;]</td><td>&quot;https://img.cu…</td><td>[&quot;Rapez les légumes, coupez le poisson en dés.&quot;, &quot;Dans un saladier, mélangez les légumes, le poisson et le jus de citron, remuez le tout et laissez poser 7 min&quot;, … &quot;Un verre de rosé léger et hop ! Vous êtes à tahiti !&quot;]</td><td>[&quot;\n",
       "        Merci Evelyne, cela me rappelle les années passées de 1966 à 1969 !\n",
       "    &quot;]</td><td>&quot;https://www.cu…</td></tr></tbody></table></div>"
      ],
      "text/plain": [
       "shape: (2_190, 11)\n",
       "┌─────────────┬────────┬────────────┬──────┬───┬────────────┬────────────┬────────────┬────────────┐\n",
       "│ nom         ┆ temps  ┆ niveau     ┆ cout ┆ … ┆ img        ┆ recette    ┆ comment    ┆ pays       │\n",
       "│ ---         ┆ ---    ┆ ---        ┆ ---  ┆   ┆ ---        ┆ ---        ┆ ---        ┆ ---        │\n",
       "│ str         ┆ str    ┆ str        ┆ str  ┆   ┆ str        ┆ list[str]  ┆ list[str]  ┆ str        │\n",
       "╞═════════════╪════════╪════════════╪══════╪═══╪════════════╪════════════╪════════════╪════════════╡\n",
       "│ Alcool de   ┆ 5 h    ┆ Difficile  ┆ 0,77 ┆ … ┆ https://im ┆ [\"Lavez    ┆ []         ┆ https://ww │\n",
       "│ pomme de    ┆        ┆            ┆      ┆   ┆ g.cuisinea ┆ les pommes ┆            ┆ w.cuisinea │\n",
       "│ terre       ┆        ┆            ┆      ┆   ┆ z.com/660x ┆ de terre   ┆            ┆ z.com/cuis │\n",
       "│             ┆        ┆            ┆      ┆   ┆ 66…        ┆ et f…      ┆            ┆ in…        │\n",
       "│ Biscuits    ┆ 52 min ┆ Facile     ┆ 0,72 ┆ … ┆ https://im ┆ [\"Préchauf ┆ [\"         ┆ https://ww │\n",
       "│ allemands   ┆        ┆            ┆      ┆   ┆ g.cuisinea ┆ fez le     ┆ SUPER!  A  ┆ w.cuisinea │\n",
       "│ de Noël     ┆        ┆            ┆      ┆   ┆ z.com/660x ┆ four th.6  ┆ part       ┆ z.com/cuis │\n",
       "│             ┆        ┆            ┆      ┆   ┆ 66…        ┆ (180°…     ┆ petite…    ┆ in…        │\n",
       "│ Biscuits    ┆ 35 min ┆ Facile     ┆ 0,40 ┆ … ┆ https://im ┆ [\"Dans un  ┆ [\"         ┆ https://ww │\n",
       "│ bretzels    ┆        ┆            ┆      ┆   ┆ g.cuisinea ┆ grand      ┆ bonsoir,   ┆ w.cuisinea │\n",
       "│ apéritifs   ┆        ┆            ┆      ┆   ┆ z.com/660x ┆ saladier,  ┆ \n",
       "           ┆ z.com/cuis │\n",
       "│             ┆        ┆            ┆      ┆   ┆ 66…        ┆ mélang…    ┆ en tant q… ┆ in…        │\n",
       "│ Biscuits de ┆ 30 min ┆ Facile     ┆ 0,75 ┆ … ┆ https://im ┆ [\"Dans un  ┆ [\"         ┆ https://ww │\n",
       "│ Noël        ┆        ┆            ┆      ┆   ┆ g.cuisinea ┆ saladier,  ┆ Pas assez  ┆ w.cuisinea │\n",
       "│ allemands   ┆        ┆            ┆      ┆   ┆ z.com/660x ┆ mélangez   ┆ de         ┆ z.com/cuis │\n",
       "│ (Lebk…      ┆        ┆            ┆      ┆   ┆ 66…        ┆ la …       ┆ précison…  ┆ in…        │\n",
       "│ Boule de    ┆ 15 min ┆ Intermédia ┆ 0,71 ┆ … ┆ https://im ┆ [\"Pour la  ┆ []         ┆ https://ww │\n",
       "│ berlin à la ┆        ┆ ire        ┆      ┆   ┆ g.cuisinea ┆ pâte à     ┆            ┆ w.cuisinea │\n",
       "│ crème       ┆        ┆            ┆      ┆   ┆ z.com/660x ┆ beignets : ┆            ┆ z.com/cuis │\n",
       "│ pâtis…      ┆        ┆            ┆      ┆   ┆ 66…        ┆ Méla…      ┆            ┆ in…        │\n",
       "│ …           ┆ …      ┆ …          ┆ …    ┆ … ┆ …          ┆ …          ┆ …          ┆ …          │\n",
       "│ Salade      ┆ 20 min ┆ Facile     ┆ 4,75 ┆ … ┆ https://im ┆ [\"Pressez  ┆ []         ┆ https://ww │\n",
       "│ tahitienne  ┆        ┆            ┆      ┆   ┆ g.cuisinea ┆ les deux   ┆            ┆ w.cuisinea │\n",
       "│ à la papaye ┆        ┆            ┆      ┆   ┆ z.com/660x ┆ citrons    ┆            ┆ z.com/cuis │\n",
       "│             ┆        ┆            ┆      ┆   ┆ 66…        ┆ jaune…     ┆            ┆ in…        │\n",
       "│ Sole à la   ┆ 30 min ┆ Facile     ┆ 3,20 ┆ … ┆ https://im ┆ [\"Coupez   ┆ [\"         ┆ https://ww │\n",
       "│ tahitienne  ┆        ┆            ┆      ┆   ┆ g.cuisinea ┆ les filets ┆ Cette      ┆ w.cuisinea │\n",
       "│             ┆        ┆            ┆      ┆   ┆ z.com/660x ┆ de sole en ┆ recette se ┆ z.com/cuis │\n",
       "│             ┆        ┆            ┆      ┆   ┆ 66…        ┆ p…         ┆ fait…      ┆ in…        │\n",
       "│ Thon à la   ┆ 40 min ┆ Facile     ┆ 4,50 ┆ … ┆ https://im ┆ [\"Nettoyez ┆ [\"         ┆ https://ww │\n",
       "│ tahitienne  ┆        ┆            ┆      ┆   ┆ g.cuisinea ┆ soigneusem ┆ la recette ┆ w.cuisinea │\n",
       "│ (concombre, ┆        ┆            ┆      ┆   ┆ z.com/660x ┆ ent le     ┆ est mal    ┆ z.com/cuis │\n",
       "│ …           ┆        ┆            ┆      ┆   ┆ 66…        ┆ pois…      ┆ ex…        ┆ in…        │\n",
       "│ Thon blanc  ┆ 15 min ┆ Facile     ┆ 4,95 ┆ … ┆ https://im ┆ [\"Sur une  ┆ []         ┆ https://ww │\n",
       "│ au citron   ┆        ┆            ┆      ┆   ┆ g.cuisinea ┆ planche de ┆            ┆ w.cuisinea │\n",
       "│ en salade   ┆        ┆            ┆      ┆   ┆ z.com/660x ┆ cuisine,   ┆            ┆ z.com/cuis │\n",
       "│ t…          ┆        ┆            ┆      ┆   ┆ 66…        ┆ ta…        ┆            ┆ in…        │\n",
       "│ Thon rouge  ┆ 15 min ┆ Facile     ┆ 1,80 ┆ … ┆ https://im ┆ [\"Rapez    ┆ [\"         ┆ https://ww │\n",
       "│ à la        ┆        ┆            ┆      ┆   ┆ g.cuisinea ┆ les        ┆ Merci      ┆ w.cuisinea │\n",
       "│ tahitienne  ┆        ┆            ┆      ┆   ┆ z.com/660x ┆ légumes,   ┆ Evelyne,   ┆ z.com/cuis │\n",
       "│             ┆        ┆            ┆      ┆   ┆ 66…        ┆ coupez le  ┆ cela m…    ┆ in…        │\n",
       "│             ┆        ┆            ┆      ┆   ┆            ┆ p…         ┆            ┆            │\n",
       "└─────────────┴────────┴────────────┴──────┴───┴────────────┴────────────┴────────────┴────────────┘"
      ]
     },
     "execution_count": 3,
     "metadata": {},
     "output_type": "execute_result"
    }
   ],
   "source": [
    "df"
   ]
  },
  {
   "cell_type": "code",
   "execution_count": 4,
   "metadata": {},
   "outputs": [],
   "source": [
    "df_clean = clean_pipeline(df)"
   ]
  },
  {
   "cell_type": "code",
   "execution_count": 5,
   "metadata": {},
   "outputs": [
    {
     "data": {
      "text/html": [
       "<div><style>\n",
       ".dataframe > thead > tr,\n",
       ".dataframe > tbody > tr {\n",
       "  text-align: right;\n",
       "  white-space: pre-wrap;\n",
       "}\n",
       "</style>\n",
       "<small>shape: (2_190, 11)</small><table border=\"1\" class=\"dataframe\"><thead><tr><th>nom</th><th>temps</th><th>niveau</th><th>cout</th><th>nb_comment</th><th>ingredient_nom</th><th>ingredient_qte</th><th>img</th><th>recette</th><th>comment</th><th>pays</th></tr><tr><td>str</td><td>f64</td><td>str</td><td>f64</td><td>i64</td><td>list[str]</td><td>list[str]</td><td>str</td><td>list[str]</td><td>list[str]</td><td>str</td></tr></thead><tbody><tr><td>&quot;Alcool de pomm…</td><td>5.0</td><td>&quot;Difficile&quot;</td><td>0.77</td><td>0</td><td>[&quot;Pomme(s) de terre&quot;, &quot;Blé&quot;, &quot;Levure&quot;]</td><td>[&quot;10 kg&quot;, &quot;1 kg&quot;, &quot; &quot;]</td><td>&quot;https://img.cu…</td><td>[&quot;Lavez les pommes de terre et faites-les cuire sans les peler pendant une bonne heure. Jetez ensuite l’eau de cuisson et écrasez bien les pommes de terre. Remettez-les ensuite dans une marmite en ajoutant 20 l d’eau. Mélangez bien et faites chauffer jusqu’à 66°C. Puis ajoutez 1 kg de blé écrasé, mélangez bien, couvrez, et remuez régulièrement pendant 2 heures, jusqu’à ce que la température redescende à 30°C. Les enzymes contenues dans le blé vont décomposer l’amidon des pommes de terre.&quot;, &quot;Filtrez la purée et récupérez le liquide. Ajoutez les levures pour fermenter l’alcool. Remuez bien, et laissez le liquide dans une pièce entre 27 et 30°C. Ce processus prend de 3 à 5 jours.&quot;, … &quot;Enfin, diluez votre alcool de pomme de terre avec de l’eau purifiée pour obtenir le degré d’alcool que vous souhaitez, et buvez avec modération. &quot;]</td><td>[]</td><td>&quot;Allemagne&quot;</td></tr><tr><td>&quot;Biscuits allem…</td><td>0.866667</td><td>&quot;Facile&quot;</td><td>0.72</td><td>9</td><td>[&quot;Farine&quot;, &quot;Cassonade&quot;, … &quot;Blanc(s) d&#x27;œuf(s)&quot;]</td><td>[&quot;170 g&quot;, &quot;85 g&quot;, … &quot;1 &quot;]</td><td>&quot;https://img.cu…</td><td>[&quot;Préchauffez le four th.6 (180°C). Dans un saladier, mettez la farine, le gingembre, la cannelle et le mélange d&#x27;épices. Ajoutez le beurre en morceaux et travaillez la pâte du bout des doigts jusqu&#x27;à ce que le mélange soit de consistance sableuse. &quot;, &quot;Incorporez le sucre cassonade. Mélangez le sirop de sucre de canne, le lait et le jaune d&#x27;oeuf dans un bol. Versez dans le saladier et remuez jusqu&#x27;à obtention d&#x27;une pâte molle. Posez la pâte sur un plan de travail fariné et pétrissez-la délicatement pendant quelques secondes pour la rendre homogène.   &quot;, … &quot;Pour le glaçage, incorporez dans un bol, peu à peu, le sucre glace au blanc d&#x27;oeuf afin d&#x27;obtenir un liquide épais. Versez cette préparation dans une poche à douille et nappez les biscuits de glaçage en réalisant la décoration de votre choix. Conservez ces biscuits allemands dans une boîte hermétique.&quot;]</td><td>[&quot;\n",
       "        SUPER!  A part petite panne de gaz juste au moment de la cuisson.....ils ont bien supporté d &#x27;attendre au frigo pendant une nuit....\n",
       "Merci !\n",
       "    &quot;, &quot;\n",
       "        C&#x27;est facile et beau ,trop cool\n",
       "    &quot;, … &quot;\n",
       "        Mmmm trop bon, je l&#x27;ai faite !\n",
       "    &quot;]</td><td>&quot;Allemagne&quot;</td></tr><tr><td>&quot;Biscuits bretz…</td><td>0.583333</td><td>&quot;Facile&quot;</td><td>0.4</td><td>1</td><td>[&quot;Farine&quot;, &quot;Lait&quot;, … &quot;Gros sel&quot;]</td><td>[&quot;500 g&quot;, &quot;300 ml&quot;, … &quot; &quot;]</td><td>&quot;https://img.cu…</td><td>[&quot;Dans un grand saladier, mélangez la farine, la levure et 1,5 cuillères de sel.&quot;, &quot;Ajoutez le beurre et le lait puis pétrissez jusqu&#x27;à obtenir une boule de pâte lisse non collante.&quot;, … &quot;Laissez refroidir sur une grille et conservez les bretzels dans une boîte hermétique jusqu&#x27;à la dégustation.&quot;]</td><td>[&quot;\n",
       "        bonsoir,  \r\n",
       "en tant qu&#x27;Alsacienne je voudrais vous dire que ce ne sont pas ces bretzels qui vont avec cette recette mais ceux que l&#x27;on achète en grandes surfaces !!!! \n",
       "    &quot;]</td><td>&quot;Allemagne&quot;</td></tr><tr><td>&quot;Biscuits de No…</td><td>0.5</td><td>&quot;Facile&quot;</td><td>0.75</td><td>1</td><td>[&quot;Farine&quot;, &quot;Amande concassée&quot;, … &quot;Beurre&quot;]</td><td>[&quot;250 g&quot;, &quot;100 g&quot;, … &quot;50 g&quot;]</td><td>&quot;https://img.cu…</td><td>[&quot;Dans un saladier, mélangez la farine, le sucre et le miel. &quot;, &quot;Ajoutez l&#x27;oeuf et mélangez bien. &quot;, … &quot;Laissez sécher plusieurs heures. &quot;]</td><td>[&quot;\n",
       "        Pas assez de précisons dans la recette,  les écorces doivent elles être coupées tt petit? Le chocolat est bien trop epais pour mettre sur les biscuits si on suit cette recette....1 seul oeuf ne suffit pas, sinon la pâte n&#x27;est que de la poudre... \r\n",
       "\n",
       "    &quot;]</td><td>&quot;Allemagne&quot;</td></tr><tr><td>&quot;Boule de berli…</td><td>0.25</td><td>&quot;Intermédiaire&quot;</td><td>0.71</td><td>0</td><td>[&quot;Farine&quot;, &quot;Levure boulangère&quot;, … &quot;Beurre&quot;]</td><td>[&quot;300 g&quot;, &quot;1 Sachet&quot;, … &quot;50 g&quot;]</td><td>&quot;https://img.cu…</td><td>[&quot;Pour la pâte à beignets : Mélangez la farine et la levure dans un grand saladier. &quot;, &quot;Versez-y le sel et le sucre, puis remuez à nouveau. &quot;, … &quot;Mêlez et filmez au contact. &quot;]</td><td>[]</td><td>&quot;Allemagne&quot;</td></tr><tr><td>&quot;Boulettes de v…</td><td>0.5</td><td>&quot;Facile&quot;</td><td>1.6</td><td>2</td><td>[&quot;Viande de boeuf hachée&quot;, &quot;Oignon(s)&quot;, … &quot;Chapelure&quot;]</td><td>[&quot;400 g&quot;, &quot;1 &quot;, … &quot;3 c. à soupe&quot;]</td><td>&quot;https://img.cu…</td><td>[&quot;Pelez et hachez finement l&#x27;oignon et l&#x27;ail. Dans une poêle, faites chauffer un peu d&#x27;huile d&#x27;olive et faites-les revenir quelques minutes sans coloration. &quot;, &quot;Dans un saladier, mélangez à la main la viande hachée avec l&#x27;oignon et l’ail, les herbes ciselées, les œufs et la chapelure. Salez et poivrez.&quot;, … &quot;Faites chauffer 3 c. à soupe d&#x27;huile d&#x27;olive dans une sauteuse. Déposez-y les boulettes de viande et faites-les revenir pendant 10 minutes environ, jusqu&#x27;à ce qu&#x27;elles soient bien dorées. Pensez à retourner régulièrement vos boulettes afin de les cuire de manière homogène.&quot;]</td><td>[&quot;\n",
       "        Elles sont meilleures que celles que je mange habituellement, je ne les ai pas pané et je les ai cuites au airfryer 13min à 180 degrés. Très bonnes je vais voir ce soir si mon mari aime !\n",
       "    &quot;, &quot;\n",
       "        Très bon, elles ont eu du succès auprès de mon carnivore de mari ! Personnellement, je rajoute de la farce à la viande hachée, ça les rend un peu moins sèches.\n",
       "    &quot;]</td><td>&quot;Allemagne&quot;</td></tr><tr><td>&quot;Bretzel&quot;</td><td>0.916667</td><td>&quot;Facile&quot;</td><td>0.75</td><td>1</td><td>[&quot;Farine T55&quot;, &quot;Bicarbonate de soude&quot;, … &quot;Gros sel&quot;]</td><td>[&quot;500 g&quot;, &quot;40 g&quot;, … &quot; &quot;]</td><td>&quot;https://img.cu…</td><td>[&quot;Dans un saladier ou au robot, mélangez la farine avec 2 c. à café de sel. Ajoutez la levure, le lait et le beurre. Pétrissez jusqu’à obtenir une pâte bien lisse. Couvrez avec un linge propre et laissez lever dans le four éteint durant 1h30.&quot;, &quot;Façonnez les bretzels en formant de longs boudins puis en les entrelaçant. &quot;, … &quot;Déposez les bretzels sur une plaque de four chemisée de papier de cuisson. Striez-les avec la pointe d’un couteau bien aiguisé, parsemez de gros sel et enfournez pour 15 min.&quot;]</td><td>[&quot;\n",
       "        Où sont les ingrédients ?\n",
       "    &quot;]</td><td>&quot;Allemagne&quot;</td></tr><tr><td>&quot;Bretzels au Ki…</td><td>1.0</td><td>&quot;Facile&quot;</td><td>0.0</td><td>0</td><td>[&quot;Farine&quot;, &quot;Eau tiède&quot;, … &quot;Gros sel&quot;]</td><td>[&quot;500 g&quot;, &quot;150 ml&quot;, … &quot;1 c. à soupe&quot;]</td><td>&quot;https://img.cu…</td><td>[&quot;Dans le bol du robot, délayez la levure de boulangerie dans une cuillère à soupe d’eau tiède. Laissez reposer 15 minutes&quot;, &quot;Ajoutez alors la farine, le lait, le sucre en poudre, le restant d’eau tiède et le sel. Installez le crochet pétrisseur sur le robot et pétrissez 10 minutes à vitesse 1. Incorporez le beurre mou et coupé en morceaux en pétrissant pendant 5 minutes supplémentaires à vitesse 1. &quot;, … &quot;Parsemez la surface des bretzels de gros sel. Enfournez-les pendant 15 minutes et laissez-les tiédir. Vous pouvez déguster vos bretzels au Kitchenaid aussi bien tièdes que froids.&quot;]</td><td>[]</td><td>&quot;Allemagne&quot;</td></tr><tr><td>&quot;Brioche butchy…</td><td>0.75</td><td>&quot;Facile&quot;</td><td>0.0</td><td>0</td><td>[&quot;Farine&quot;, &quot;Crème fraîche&quot;, … &quot;Lait&quot;]</td><td>[&quot;500 g&quot;, &quot;200 g&quot;, … &quot;1 c. à soupe&quot;]</td><td>&quot;https://img.cu…</td><td>[&quot;Préparez votre pâte à brioche butchy au Monsieur Cuisine en versant le lait tiède dans la cuve du robot. Ajoutez la levure de boulangerie et le sucre en poudre. Faites chauffer pendant 7 minutes à vitesse 1 et à 37°C.&quot;, &quot;Incorporez la crème fraîche et les œufs. Relancez le robot à 37°C et à vitesse 1 pendant 5 minutes.&quot;, … &quot;Préchauffez le four à 150°C. Enfournez la brioche butchy pendant 25 minutes. Laissez-la refroidir avant de la déguster.&quot;]</td><td>[]</td><td>&quot;Allemagne&quot;</td></tr><tr><td>&quot;Bûche de Noël …</td><td>2.366667</td><td>&quot;Intermédiaire&quot;</td><td>1.8</td><td>1</td><td>[&quot;Chocolat&quot;, &quot;Blancs&quot;, … &quot;Chocolat&quot;]</td><td>[&quot; &quot;, &quot;5 c. à soupe&quot;, … &quot; &quot;]</td><td>&quot;https://img.cu…</td><td>[&quot;Pour le gâteau :  Préchauffez le four à th.7 (200 °C). &quot;, &quot;Mêlez les jaunes d’œufs et 125 g de sucre dans un bol jusqu’à l’obtention d’un mélange épais. Ajoutez la vanille et réservez. &quot;, … &quot;Retirez du feu et ajoutez le chocolat. Laissez reposer 5 min. Remuez pour obtenir une ganache lisse. Laissez refroidir 15 min. Étalez la ganache rafraîchie sur le gâteau roulé. Disposez dessus les écorces de chocolat. Couvrez la bûche de Noël forêt noire et remettez-la au réfrigérateur. &quot;]</td><td>[&quot;\n",
       "        bonjour, quel moule à gâteau , quelle taille pour le moule ?\n",
       "    &quot;]</td><td>&quot;Allemagne&quot;</td></tr><tr><td>&quot;Choucroute sim…</td><td>4.0</td><td>&quot;Facile&quot;</td><td>4.63</td><td>1</td><td>[&quot;Choucroute(s)&quot;, &quot;Pomme(s) de terre&quot;, … &quot;Vin blanc&quot;]</td><td>[&quot;2 kg&quot;, &quot;1 kg&quot;, … &quot;1 Bouteille(s)&quot;]</td><td>&quot;https://img.cu…</td><td>[&quot;Dans une grande cocotte en fonte, faites dorer à feu moyen les oignons et les morceaux de lard avec du beurre. Ajoutez la carotte râpée (facultatif).&quot;, &quot;Versez dessus un peu de vin blanc, ajoutez les 2 cubes de bouillon, et laissez mijoter 5 minutes.&quot;, … &quot;Lorsque la cuisson arrive à son terme (goûtez le chou pour voir s&#x27;il est assez fondant et s&#x27;il vous convient ainsi sinon laissez encore cuire un peu), ajoutez également sur le dessus vos saucisses knack piquées au couteau (pour éviter l&#x27;éclatement) et remettez à feu doux avec le couvercle pendant 10 minutes pour chauffer les saucisses.&quot;]</td><td>[&quot;\n",
       "        Si je puis me permettre, en tant qu&#x27;alsacienne: on fait une choucroute soit à la bière, soit au vin...mais sûrement pas en mélangeant les deux. Par ailleurs, les knacks se réchauffent tout simplement en les mettant 4-5 minutes dans une casserole d&#x27;eau bouillante (hors du feu, bien entendu).\n",
       "    &quot;]</td><td>&quot;Allemagne&quot;</td></tr><tr><td>&quot;Coeurs d&#x27;amand…</td><td>0.5</td><td>&quot;Facile&quot;</td><td>1.55</td><td>0</td><td>[&quot;Farine&quot;, &quot;Beurre&quot;, … &quot;Citron(s)&quot;]</td><td>[&quot;150 g&quot;, &quot;150 g&quot;, … &quot; zeste&quot;]</td><td>&quot;https://img.cu…</td><td>[&quot;Mélangez le beurre, le sucre et les zestes de citron.&quot;, &quot;Ajoutez la farine et les amandes et mettez au réfrigérateur pendant 1 heure.&quot;, … &quot;Laissez refroidir et dégustez.&quot;]</td><td>[]</td><td>&quot;Allemagne&quot;</td></tr><tr><td>&hellip;</td><td>&hellip;</td><td>&hellip;</td><td>&hellip;</td><td>&hellip;</td><td>&hellip;</td><td>&hellip;</td><td>&hellip;</td><td>&hellip;</td><td>&hellip;</td><td>&hellip;</td></tr><tr><td>&quot;Poulet au citr…</td><td>0.5</td><td>&quot;Facile&quot;</td><td>1.9</td><td>2</td><td>[&quot;Blanc(s) de poulet &quot;, &quot;Citron(s) vert(s)&quot;, … &quot;Sel poivre&quot;]</td><td>[&quot;4 &quot;, &quot;2 &quot;, … &quot; l&quot;]</td><td>&quot;https://img.cu…</td><td>[&quot;Pressez les citrons. &quot;, &quot;Dans un plat, disposez les blancs de poulet et arrosez-les de jus. Ajoutez l’huile. &quot;, … &quot;Servez.&quot;]</td><td>[&quot;\n",
       "        La viande donne un goût tendre et pas aussi fade. Recommandé dans un programme minceur ! Aucune calorie !\n",
       "    &quot;, &quot;\n",
       "        Très excellent ce Poulet au citron, surtout avec un accompagnement de la Poêlée aux champignons à l&#x27;ail-persil !\n",
       "    &quot;]</td><td>&quot;Tahiti&quot;</td></tr><tr><td>&quot;Poulet fafa&quot;</td><td>0.583333</td><td>&quot;Facile&quot;</td><td>2.92</td><td>0</td><td>[&quot;Filet(s) de poulet&quot;, &quot;Pousse d&#x27;alfafa&quot;, … &quot;Sel, poivre&quot;]</td><td>[&quot;4 &quot;, &quot;1 kg&quot;, … &quot; &quot;]</td><td>&quot;https://img.cu…</td><td>[&quot;Pelez et émincez l’oignon. &quot;, &quot;Dans une poêle, faites fondre le beurre et versez l’oignon émincé. Une fois cuit, réservez.&quot;, … &quot;Servez votre poulet fafa bien chaud, accompagné de riz !&quot;]</td><td>[]</td><td>&quot;Tahiti&quot;</td></tr><tr><td>&quot;Punch Tahitien…</td><td>0.166667</td><td>&quot;Facile&quot;</td><td>0.9</td><td>0</td><td>[&quot;Rhum&quot;, &quot;Jus d&#x27;ananas&quot;, … &quot;Vanille&quot;]</td><td>[&quot;4 dl&quot;, &quot;1 l&quot;, … &quot;2 gousse(s)&quot;]</td><td>&quot;https://img.cu…</td><td>[&quot;Faites tremper les gousses de vanille dans le rhum pendant au moins 2 mois.&quot;, &quot;Mélangez les ingrédients et laissez &quot;infuser&quot; 4 à 5 jours minimum au réfrigérateur. &quot;]</td><td>[]</td><td>&quot;Tahiti&quot;</td></tr><tr><td>&quot;Salade de bar …</td><td>0.25</td><td>&quot;Facile&quot;</td><td>4.5</td><td>0</td><td>[&quot;Filet de bar&quot;, &quot;Citron(s) vert(s)&quot;, … &quot;Fleur de sel&quot;]</td><td>[&quot;500 filets&quot;, &quot;4 &quot;, … &quot; &quot;]</td><td>&quot;https://img.cu…</td><td>[&quot;Faites lever les filets de bar sans la peau par votre poissonnier. Enlevez, si besoin est, les arêtes à l&#x27;aide d&#x27;une pince à épiler.&quot;, &quot;Rincez-les sous l&#x27;eau froide puis essuyez-les avec du papier absorbant. Coupez-les en morceaux et disposez-les dans un plat. Arrosez-les avec le jus des citrons verts, 2 c. à soupe d&#x27;huile de pépin de raisin, 1 c. à café de poivre vert, salez légèrement. Recouvrez le plat de film plastique et placez-le au réfrigérateur pendant 3 heures environ.&quot;, … &quot;Servez aussitôt.&quot;]</td><td>[]</td><td>&quot;Tahiti&quot;</td></tr><tr><td>&quot;Salade de crab…</td><td>0.333333</td><td>&quot;Facile&quot;</td><td>3.5</td><td>0</td><td>[&quot;Crabe au naturel(s)&quot;, &quot;Avocat(s)&quot;, … &quot;Sel poivre&quot;]</td><td>[&quot;12 boîte(s)&quot;, &quot;1 c. à thé&quot;, … &quot; &quot;]</td><td>&quot;https://img.cu…</td><td>[&quot;Déterminez quatre faces à la mangue et les couper en prélevant le maximum de pulpe, hachurez l&#x27;intérieur avec la pointe d&#x27;un couteau et retournez la peau. &quot;, &quot;Epluchez l&#x27;ananas et le découper en fines tranches. Cassez la moly de coco en deux et en récupérer le lait. Râpez un peu de pulpe fraîche pour en parsemant la salade une fois terminée. Faites cuire les pinces de crabe 5 à 6 minutes à l&#x27;eau bouillante salée puis les décortiquez. Coupez l&#x27;avocat en fines tranches, citronnez-les aussitôt avec le jus d&#x27;un demi-citron.&quot;, … &quot;Arrosez de vinaigrette et parsemez de noix de coco râpée. Coupez le reste de pulpe de noix de coco en dés et les servir à l&#x27;apéritif. Vous pouvez remplacez les tranches d&#x27;ananas par des segments de pamplemousse dont on aura complétement retiré les peaux blanches.&quot;]</td><td>[]</td><td>&quot;Tahiti&quot;</td></tr><tr><td>&quot;Salade de thon…</td><td>0.416667</td><td>&quot;Facile&quot;</td><td>3.5</td><td>0</td><td>[&quot;Vinaigre&quot;, &quot;Soja&quot;, … &quot;Sel poivre&quot;]</td><td>[&quot;1 c. à soupe&quot;, &quot;3 c. à soupe&quot;, … &quot; &quot;]</td><td>&quot;https://img.cu…</td><td>[&quot;Découpez le thon en petits morceaux, salez. Dans un saladier, faites macérer pendant 1 heure le thon avec le jus des citrons. &quot;, &quot;Ajoutez ensuite les oignons en lamelles, les carottes rapées, les tomates en lamelles et la ciboulette. &quot;, &quot;Videz le jus de citron, rincez et égouttez. Versez la sauce. Mélangez.&quot;]</td><td>[]</td><td>&quot;Tahiti&quot;</td></tr><tr><td>&quot;Salade tahitie…</td><td>0.333333</td><td>&quot;Facile&quot;</td><td>3.2</td><td>0</td><td>[&quot;Poisson&quot;, &quot;Citron(s)&quot;, … &quot;Oignon(s) vert(s) &quot;]</td><td>[&quot;1 kg&quot;, &quot;6 &quot;, … &quot;3 &quot;]</td><td>&quot;https://img.cu…</td><td>[&quot;Coupez le poisson en petits morceaux. Laissez macérer 30 min dans le jus de citron. &quot;, &quot;Egouttez la chair et jetez le surplus de citron.&quot;, … &quot;Servez trés frais.   &quot;]</td><td>[]</td><td>&quot;Tahiti&quot;</td></tr><tr><td>&quot;Salade tahitie…</td><td>0.333333</td><td>&quot;Facile&quot;</td><td>4.75</td><td>0</td><td>[&quot;Cabillaud&quot;, &quot;Papaye&quot;, … &quot;Sel poivre&quot;]</td><td>[&quot;600 filet&quot;, &quot;2 &quot;, … &quot; &quot;]</td><td>&quot;https://img.cu…</td><td>[&quot;Pressez les deux citrons jaunes et un vert. Versez le jus dans un saladier, ajoutez du poivre et une cuillerée d&#x27;huile et mélangez. &quot;, &quot;Coupez le poisson en petits cubes, mettez-les dans la marinade, couvrez et laissez au frais 30 min au moins.&quot;, … &quot;Egouttez le poisson, mettez-le dans un plat avec la salade, les boules de papaye, les oignons, les piments et le céleri. Parsemez de coriandre, arrosez d&#x27;un filet d&#x27;huile et décorez de tranches de citron vert.&quot;]</td><td>[]</td><td>&quot;Tahiti&quot;</td></tr><tr><td>&quot;Sole à la tahi…</td><td>0.5</td><td>&quot;Facile&quot;</td><td>3.2</td><td>1</td><td>[&quot;Filet de sole&quot;, &quot;Noix de coco(s)&quot;, … &quot;Sel poivre&quot;]</td><td>[&quot;1 filet&quot;, &quot;1 noix&quot;, … &quot; &quot;]</td><td>&quot;https://img.cu…</td><td>[&quot;Coupez les filets de sole en petits cubes et mettez-les dans un saladier.&quot;, &quot;Epluchez et rapez les carottes.&quot;, … &quot;Ajoutez le tout dans le saladier, poivrez, salez et rajoutez le persil et la ciboulette finement hachée. Mélangez bien le tout et laissez reposer dans le frigidaire au moins 24h voire 48h, c&#x27;est encore mieux. (le poisson cuit avec le citron).&quot;]</td><td>[&quot;\n",
       "        Cette recette se fait avec du thon principalement ! De plus, on ne laisse pas macérer 24 ou 48 heures car le poisson est trop cuit. \r\n",
       "Dans la réalité à Tahiti, le poisson est préparé juste avant de passer à table mais on peut le préparer 1 heure avant pour ceux qui préférent que le poissson soit un peu plus cuit. Mais c&#x27;est meilleur fait de suite !\n",
       "    &quot;]</td><td>&quot;Tahiti&quot;</td></tr><tr><td>&quot;Thon à la tahi…</td><td>0.666667</td><td>&quot;Facile&quot;</td><td>4.5</td><td>3</td><td>[&quot;Thon frais&quot;, &quot;Poivron(s) vert(s)&quot;, … &quot;Huile de soja&quot;]</td><td>[&quot;600 g&quot;, &quot;0,25 &quot;, … &quot;1 c. à soupe&quot;]</td><td>&quot;https://img.cu…</td><td>[&quot;Nettoyez soigneusement le poisson : enlevez la peau et les arêtes ainsi que les parties noires ou grasses. &quot;, &quot;Coupez-le en petits cubes et trempez-les dans de l&#x27;eau salée avec la gousse d&#x27;ail.&quot;, … &quot;Disposez dans chaque assiette un peu préparation et versez un peu lait de coco bien frais avant de servir.&quot;]</td><td>[&quot;\n",
       "        la recette est mal expliquée, surtout la partie de la cuisson et l&#x27;ajout des ingrediants\n",
       "    &quot;, &quot;\n",
       "        Bonjour, il n&#x27;y a pas de cuisson à proprement parler. C&#x27;est le jus de citron qui va &quot;cuire&quot; le poisson. Selon ses goûts on peut prolonger le temps de macération du poisson pour avoir un thon plus ou moins &quot;cuit&quot;. En général je prépare cette recette la veille pour le lendemain et c&#x27;est toujours un pur régal. Bon appétit !\n",
       "    &quot;, &quot;\n",
       "        Bravo Michèle, enfin quelqu&#x27;un qui répond sur ce site, c&#x27;est remarquable et tout à votre honneur car cela est tellement rare !\n",
       "    &quot;]</td><td>&quot;Tahiti&quot;</td></tr><tr><td>&quot;Thon blanc au …</td><td>0.25</td><td>&quot;Facile&quot;</td><td>4.95</td><td>0</td><td>[&quot;Thon blanc&quot;, &quot;Citron(s) vert(s)&quot;, … &quot;Sel poivre&quot;]</td><td>[&quot;400 c&quot;, &quot;1 &quot;, … &quot; &quot;]</td><td>&quot;https://img.cu…</td><td>[&quot;Sur une planche de cuisine, taillez au couteau le thon en morceaux.&quot;, &quot;Disposez-le dans un saladier. &quot;, … &quot;Disposez un lit de laitue dans un saladier et mettez-y le poisson accompagné des crudités.&quot;]</td><td>[]</td><td>&quot;Tahiti&quot;</td></tr><tr><td>&quot;Thon rouge à l…</td><td>0.25</td><td>&quot;Facile&quot;</td><td>1.8</td><td>1</td><td>[&quot;Lait de coco&quot;, &quot;Thon rouge&quot;, … &quot;Jus de citron vert&quot;]</td><td>[&quot;0,5 l&quot;, &quot;600 g&quot;, … &quot;4 &quot;]</td><td>&quot;https://img.cu…</td><td>[&quot;Rapez les légumes, coupez le poisson en dés.&quot;, &quot;Dans un saladier, mélangez les légumes, le poisson et le jus de citron, remuez le tout et laissez poser 7 min&quot;, … &quot;Un verre de rosé léger et hop ! Vous êtes à tahiti !&quot;]</td><td>[&quot;\n",
       "        Merci Evelyne, cela me rappelle les années passées de 1966 à 1969 !\n",
       "    &quot;]</td><td>&quot;Tahiti&quot;</td></tr></tbody></table></div>"
      ],
      "text/plain": [
       "shape: (2_190, 11)\n",
       "┌────────────┬──────────┬────────────┬──────┬───┬────────────┬────────────┬────────────┬───────────┐\n",
       "│ nom        ┆ temps    ┆ niveau     ┆ cout ┆ … ┆ img        ┆ recette    ┆ comment    ┆ pays      │\n",
       "│ ---        ┆ ---      ┆ ---        ┆ ---  ┆   ┆ ---        ┆ ---        ┆ ---        ┆ ---       │\n",
       "│ str        ┆ f64      ┆ str        ┆ f64  ┆   ┆ str        ┆ list[str]  ┆ list[str]  ┆ str       │\n",
       "╞════════════╪══════════╪════════════╪══════╪═══╪════════════╪════════════╪════════════╪═══════════╡\n",
       "│ Alcool de  ┆ 5.0      ┆ Difficile  ┆ 0.77 ┆ … ┆ https://im ┆ [\"Lavez    ┆ []         ┆ Allemagne │\n",
       "│ pomme de   ┆          ┆            ┆      ┆   ┆ g.cuisinea ┆ les pommes ┆            ┆           │\n",
       "│ terre      ┆          ┆            ┆      ┆   ┆ z.com/660x ┆ de terre   ┆            ┆           │\n",
       "│            ┆          ┆            ┆      ┆   ┆ 66…        ┆ et f…      ┆            ┆           │\n",
       "│ Biscuits   ┆ 0.866667 ┆ Facile     ┆ 0.72 ┆ … ┆ https://im ┆ [\"Préchauf ┆ [\"         ┆ Allemagne │\n",
       "│ allemands  ┆          ┆            ┆      ┆   ┆ g.cuisinea ┆ fez le     ┆ SUPER!  A  ┆           │\n",
       "│ de Noël    ┆          ┆            ┆      ┆   ┆ z.com/660x ┆ four th.6  ┆ part       ┆           │\n",
       "│            ┆          ┆            ┆      ┆   ┆ 66…        ┆ (180°…     ┆ petite…    ┆           │\n",
       "│ Biscuits   ┆ 0.583333 ┆ Facile     ┆ 0.4  ┆ … ┆ https://im ┆ [\"Dans un  ┆ [\"         ┆ Allemagne │\n",
       "│ bretzels   ┆          ┆            ┆      ┆   ┆ g.cuisinea ┆ grand      ┆ bonsoir,   ┆           │\n",
       "│ apéritifs  ┆          ┆            ┆      ┆   ┆ z.com/660x ┆ saladier,  ┆ \n",
       "           ┆           │\n",
       "│            ┆          ┆            ┆      ┆   ┆ 66…        ┆ mélang…    ┆ en tant q… ┆           │\n",
       "│ Biscuits   ┆ 0.5      ┆ Facile     ┆ 0.75 ┆ … ┆ https://im ┆ [\"Dans un  ┆ [\"         ┆ Allemagne │\n",
       "│ de Noël    ┆          ┆            ┆      ┆   ┆ g.cuisinea ┆ saladier,  ┆ Pas assez  ┆           │\n",
       "│ allemands  ┆          ┆            ┆      ┆   ┆ z.com/660x ┆ mélangez   ┆ de         ┆           │\n",
       "│ (Lebk…     ┆          ┆            ┆      ┆   ┆ 66…        ┆ la …       ┆ précison…  ┆           │\n",
       "│ Boule de   ┆ 0.25     ┆ Intermédia ┆ 0.71 ┆ … ┆ https://im ┆ [\"Pour la  ┆ []         ┆ Allemagne │\n",
       "│ berlin à   ┆          ┆ ire        ┆      ┆   ┆ g.cuisinea ┆ pâte à     ┆            ┆           │\n",
       "│ la crème   ┆          ┆            ┆      ┆   ┆ z.com/660x ┆ beignets : ┆            ┆           │\n",
       "│ pâtis…     ┆          ┆            ┆      ┆   ┆ 66…        ┆ Méla…      ┆            ┆           │\n",
       "│ …          ┆ …        ┆ …          ┆ …    ┆ … ┆ …          ┆ …          ┆ …          ┆ …         │\n",
       "│ Salade     ┆ 0.333333 ┆ Facile     ┆ 4.75 ┆ … ┆ https://im ┆ [\"Pressez  ┆ []         ┆ Tahiti    │\n",
       "│ tahitienne ┆          ┆            ┆      ┆   ┆ g.cuisinea ┆ les deux   ┆            ┆           │\n",
       "│ à la       ┆          ┆            ┆      ┆   ┆ z.com/660x ┆ citrons    ┆            ┆           │\n",
       "│ papaye     ┆          ┆            ┆      ┆   ┆ 66…        ┆ jaune…     ┆            ┆           │\n",
       "│ Sole à la  ┆ 0.5      ┆ Facile     ┆ 3.2  ┆ … ┆ https://im ┆ [\"Coupez   ┆ [\"         ┆ Tahiti    │\n",
       "│ tahitienne ┆          ┆            ┆      ┆   ┆ g.cuisinea ┆ les filets ┆ Cette      ┆           │\n",
       "│            ┆          ┆            ┆      ┆   ┆ z.com/660x ┆ de sole en ┆ recette se ┆           │\n",
       "│            ┆          ┆            ┆      ┆   ┆ 66…        ┆ p…         ┆ fait…      ┆           │\n",
       "│ Thon à la  ┆ 0.666667 ┆ Facile     ┆ 4.5  ┆ … ┆ https://im ┆ [\"Nettoyez ┆ [\"         ┆ Tahiti    │\n",
       "│ tahitienne ┆          ┆            ┆      ┆   ┆ g.cuisinea ┆ soigneusem ┆ la recette ┆           │\n",
       "│ (concombre ┆          ┆            ┆      ┆   ┆ z.com/660x ┆ ent le     ┆ est mal    ┆           │\n",
       "│ ,…         ┆          ┆            ┆      ┆   ┆ 66…        ┆ pois…      ┆ ex…        ┆           │\n",
       "│ Thon blanc ┆ 0.25     ┆ Facile     ┆ 4.95 ┆ … ┆ https://im ┆ [\"Sur une  ┆ []         ┆ Tahiti    │\n",
       "│ au citron  ┆          ┆            ┆      ┆   ┆ g.cuisinea ┆ planche de ┆            ┆           │\n",
       "│ en salade  ┆          ┆            ┆      ┆   ┆ z.com/660x ┆ cuisine,   ┆            ┆           │\n",
       "│ t…         ┆          ┆            ┆      ┆   ┆ 66…        ┆ ta…        ┆            ┆           │\n",
       "│ Thon rouge ┆ 0.25     ┆ Facile     ┆ 1.8  ┆ … ┆ https://im ┆ [\"Rapez    ┆ [\"         ┆ Tahiti    │\n",
       "│ à la       ┆          ┆            ┆      ┆   ┆ g.cuisinea ┆ les        ┆ Merci      ┆           │\n",
       "│ tahitienne ┆          ┆            ┆      ┆   ┆ z.com/660x ┆ légumes,   ┆ Evelyne,   ┆           │\n",
       "│            ┆          ┆            ┆      ┆   ┆ 66…        ┆ coupez le  ┆ cela m…    ┆           │\n",
       "│            ┆          ┆            ┆      ┆   ┆            ┆ p…         ┆            ┆           │\n",
       "└────────────┴──────────┴────────────┴──────┴───┴────────────┴────────────┴────────────┴───────────┘"
      ]
     },
     "execution_count": 5,
     "metadata": {},
     "output_type": "execute_result"
    }
   ],
   "source": [
    "df_clean"
   ]
  },
  {
   "cell_type": "code",
   "execution_count": null,
   "metadata": {},
   "outputs": [],
   "source": [
    "df_clean = clean_pays2(df_clean)"
   ]
  },
  {
   "cell_type": "code",
   "execution_count": 6,
   "metadata": {},
   "outputs": [
    {
     "data": {
      "text/plain": [
       "array(['Mexique', 'Portugal', 'Algerie', 'Italie', 'Bresil', 'Turquie',\n",
       "       'Liban', 'Guyane', 'Vietnam', 'Canada', 'Afrique-du-sud',\n",
       "       'Autriche', 'Irlande', 'Chine', 'Roumanie', 'Tahiti', 'Suede',\n",
       "       'Russie', 'Laos', 'Suisse', 'Caraibes', 'Benin', 'Japon', 'Perou',\n",
       "       'Reunion', 'Ile-maurice', 'Grece', 'Azerbaidjan', 'Chili',\n",
       "       'Cubaines', 'Allemagne', 'Inde', 'Nouvelle-caledonie',\n",
       "       'Royaume-uni', 'Guadeloupe', 'Senegal', 'Israel', 'Argentine',\n",
       "       'Espagne', 'Corée Du Sud', 'Tunisie', 'Maroc', 'Hongrie', 'Crete',\n",
       "       'Cote-ivoire', 'Thailande', 'Croatie', 'Lituanie', 'Martinique',\n",
       "       'Bulgarie', 'Afrique', 'Australie', 'Etats-unis', 'Venezuela',\n",
       "       'Belgique', 'Nouvelle-zelande', 'Norvege', 'Indonesie', 'Cameroun',\n",
       "       'Pologne'], dtype=object)"
      ]
     },
     "execution_count": 6,
     "metadata": {},
     "output_type": "execute_result"
    }
   ],
   "source": [
    "df_clean[\"pays\"].unique().to_numpy()"
   ]
  },
  {
   "cell_type": "code",
   "execution_count": null,
   "metadata": {},
   "outputs": [],
   "source": [
    "df_clean = df_clean.with_columns(\n",
    "    pl.col(\"pays\").str.replace(\"irlandaises\", \"irlande\")\n",
    "                .str.replace(\"norvegiennes\", \"norvege\")\n",
    "                .str.replace(\"libanaises\", \"liban\")\n",
    "                .str.replace(\"africaines\", \"afrique\")\n",
    "                .str.replace(\"indonesiennes\", \"indonesie\")\n",
    "                .str.replace(\"vietnamiennes\", \"vietnam\")\n",
    "                .str.replace(\"corennes\", \"corée du sud\")\n",
    ")"
   ]
  },
  {
   "cell_type": "code",
   "execution_count": null,
   "metadata": {},
   "outputs": [],
   "source": [
    "df_clean = df_clean.with_columns(\n",
    "    pl.col(\"pays\").str.to_titlecase()\n",
    ")"
   ]
  },
  {
   "cell_type": "code",
   "execution_count": null,
   "metadata": {},
   "outputs": [],
   "source": [
    "df_clean[\"pays\"].unique().to_numpy()"
   ]
  }
 ],
 "metadata": {
  "kernelspec": {
   "display_name": "Python 3",
   "language": "python",
   "name": "python3"
  },
  "language_info": {
   "codemirror_mode": {
    "name": "ipython",
    "version": 3
   },
   "file_extension": ".py",
   "mimetype": "text/x-python",
   "name": "python",
   "nbconvert_exporter": "python",
   "pygments_lexer": "ipython3",
   "version": "3.11.1"
  }
 },
 "nbformat": 4,
 "nbformat_minor": 2
}
