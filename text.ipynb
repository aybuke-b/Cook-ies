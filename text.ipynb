{
 "cells": [
  {
   "cell_type": "code",
   "execution_count": 1,
   "metadata": {},
   "outputs": [],
   "source": [
    "import polars as pl"
   ]
  },
  {
   "cell_type": "code",
   "execution_count": 27,
   "metadata": {},
   "outputs": [],
   "source": [
    "df_comment = pl.read_parquet(r\"data\\recette.parquet\").select(\"nom\", \"comment\", \"pays\", \"niveau\", \"cout\").explode(\"comment\").drop_nulls()"
   ]
  },
  {
   "cell_type": "code",
   "execution_count": 28,
   "metadata": {},
   "outputs": [],
   "source": [
    "df_comment_clean = df_comment.with_columns(\n",
    "    pl.col(\"comment\")\n",
    "    .str.replace(\"\\n        \", \"\")\n",
    "    .str.replace(\"\\n    \", \"\")\n",
    "    .str.replace(\"\\n\", \"\")\n",
    ")"
   ]
  },
  {
   "cell_type": "code",
   "execution_count": 29,
   "metadata": {},
   "outputs": [
    {
     "data": {
      "text/html": [
       "<div><style>\n",
       ".dataframe > thead > tr > th,\n",
       ".dataframe > tbody > tr > td {\n",
       "  text-align: right;\n",
       "  white-space: pre-wrap;\n",
       "}\n",
       "</style>\n",
       "<small>shape: (5, 5)</small><table border=\"1\" class=\"dataframe\"><thead><tr><th>nom</th><th>comment</th><th>pays</th><th>niveau</th><th>cout</th></tr><tr><td>str</td><td>str</td><td>str</td><td>str</td><td>f64</td></tr></thead><tbody><tr><td>&quot;Biscuits allem…</td><td>&quot;SUPER!  A part…</td><td>&quot;allemagne&quot;</td><td>&quot;Facile&quot;</td><td>0.72</td></tr><tr><td>&quot;Biscuits allem…</td><td>&quot;C&#x27;est facile e…</td><td>&quot;allemagne&quot;</td><td>&quot;Facile&quot;</td><td>0.72</td></tr><tr><td>&quot;Biscuits allem…</td><td>&quot;exellent biscu…</td><td>&quot;allemagne&quot;</td><td>&quot;Facile&quot;</td><td>0.72</td></tr><tr><td>&quot;Biscuits allem…</td><td>&quot;Délicieuse rec…</td><td>&quot;allemagne&quot;</td><td>&quot;Facile&quot;</td><td>0.72</td></tr><tr><td>&quot;Biscuits allem…</td><td>&quot;Pouvez-vous me…</td><td>&quot;allemagne&quot;</td><td>&quot;Facile&quot;</td><td>0.72</td></tr></tbody></table></div>"
      ],
      "text/plain": [
       "shape: (5, 5)\n",
       "┌────────────────────────────┬───────────────────────────────────┬───────────┬────────┬──────┐\n",
       "│ nom                        ┆ comment                           ┆ pays      ┆ niveau ┆ cout │\n",
       "│ ---                        ┆ ---                               ┆ ---       ┆ ---    ┆ ---  │\n",
       "│ str                        ┆ str                               ┆ str       ┆ str    ┆ f64  │\n",
       "╞════════════════════════════╪═══════════════════════════════════╪═══════════╪════════╪══════╡\n",
       "│ Biscuits allemands de Noël ┆ SUPER!  A part petite panne de g… ┆ allemagne ┆ Facile ┆ 0.72 │\n",
       "│ Biscuits allemands de Noël ┆ C'est facile et beau ,trop cool   ┆ allemagne ┆ Facile ┆ 0.72 │\n",
       "│ Biscuits allemands de Noël ┆ exellent biscuit ! mes enfants e… ┆ allemagne ┆ Facile ┆ 0.72 │\n",
       "│ Biscuits allemands de Noël ┆ Délicieuse recette mais je doubl… ┆ allemagne ┆ Facile ┆ 0.72 │\n",
       "│ Biscuits allemands de Noël ┆ Pouvez-vous mettre une photo svp  ┆ allemagne ┆ Facile ┆ 0.72 │\n",
       "└────────────────────────────┴───────────────────────────────────┴───────────┴────────┴──────┘"
      ]
     },
     "execution_count": 29,
     "metadata": {},
     "output_type": "execute_result"
    }
   ],
   "source": [
    "df_comment_clean.head()"
   ]
  },
  {
   "cell_type": "code",
   "execution_count": 30,
   "metadata": {},
   "outputs": [],
   "source": [
    "df_comment_clean.write_csv(\"data/comment.csv\")"
   ]
  }
 ],
 "metadata": {
  "kernelspec": {
   "display_name": "Python 3",
   "language": "python",
   "name": "python3"
  },
  "language_info": {
   "codemirror_mode": {
    "name": "ipython",
    "version": 3
   },
   "file_extension": ".py",
   "mimetype": "text/x-python",
   "name": "python",
   "nbconvert_exporter": "python",
   "pygments_lexer": "ipython3",
   "version": "3.11.1"
  }
 },
 "nbformat": 4,
 "nbformat_minor": 2
}
