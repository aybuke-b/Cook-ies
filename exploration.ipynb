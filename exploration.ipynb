{
 "cells": [
  {
   "cell_type": "code",
   "execution_count": 9,
   "metadata": {},
   "outputs": [
    {
     "ename": "ModuleNotFoundError",
     "evalue": "No module named 'scraping_m'",
     "output_type": "error",
     "traceback": [
      "\u001b[1;31m---------------------------------------------------------------------------\u001b[0m",
      "\u001b[1;31mModuleNotFoundError\u001b[0m                       Traceback (most recent call last)",
      "Cell \u001b[1;32mIn[9], line 2\u001b[0m\n\u001b[0;32m      1\u001b[0m \u001b[38;5;28;01mfrom\u001b[39;00m \u001b[38;5;21;01mserde\u001b[39;00m\u001b[38;5;21;01m.\u001b[39;00m\u001b[38;5;21;01mjson\u001b[39;00m \u001b[38;5;28;01mimport\u001b[39;00m to_json\n\u001b[1;32m----> 2\u001b[0m \u001b[38;5;28;01mfrom\u001b[39;00m \u001b[38;5;21;01mscraping_m\u001b[39;00m \u001b[38;5;28;01mimport\u001b[39;00m \u001b[38;5;241m*\u001b[39m\n",
      "\u001b[1;31mModuleNotFoundError\u001b[0m: No module named 'scraping_m'"
     ]
    }
   ],
   "source": [
    "from serde.json import to_json\n",
    "from scraping_m import *"
   ]
  },
  {
   "cell_type": "markdown",
   "metadata": {},
   "source": [
    "# Marmiton"
   ]
  },
  {
   "cell_type": "code",
   "execution_count": null,
   "metadata": {},
   "outputs": [],
   "source": [
    "lien = \"https://www.marmiton.org/recettes/recette_pate-a-pizza-epaisse-et-moelleuse_58761.aspx\""
   ]
  },
  {
   "cell_type": "code",
   "execution_count": null,
   "metadata": {},
   "outputs": [],
   "source": [
    "res = scrap(lien)"
   ]
  },
  {
   "cell_type": "code",
   "execution_count": null,
   "metadata": {},
   "outputs": [],
   "source": [
    "res_json = to_json(res)"
   ]
  },
  {
   "cell_type": "code",
   "execution_count": null,
   "metadata": {},
   "outputs": [],
   "source": [
    "path = \"data/recette.json\"\n",
    "\n",
    "with open(path, \"w\", encoding=\"utf-8\") as json_file:\n",
    "    json_file.write(res_json)"
   ]
  },
  {
   "cell_type": "markdown",
   "metadata": {},
   "source": [
    "# Cuisine AZ"
   ]
  },
  {
   "cell_type": "code",
   "execution_count": 10,
   "metadata": {},
   "outputs": [],
   "source": [
    "from scraping_az import scrap, _soupage\n",
    "import requests as rq\n",
    "from bs4 import BeautifulSoup as BS\n",
    "import re\n",
    "import numpy as np"
   ]
  },
  {
   "cell_type": "markdown",
   "metadata": {},
   "source": [
    "# Outside pays"
   ]
  },
  {
   "cell_type": "code",
   "execution_count": 11,
   "metadata": {},
   "outputs": [],
   "source": [
    "def get_pays(url:str) -> list[str]:\n",
    "    res = rq.get(url)\n",
    "    soupe = BS(res.text, 'html.parser')\n",
    "    pays = [a['href'] for a in soupe.select('div.tile_content a.tile_title')]\n",
    "    urls = []\n",
    "    for pay in pays:\n",
    "        urls.append(\"https://www.cuisineaz.com\" + pay)\n",
    "    return urls"
   ]
  },
  {
   "cell_type": "code",
   "execution_count": 12,
   "metadata": {},
   "outputs": [],
   "source": [
    "urls_pays = get_pays(\"https://www.cuisineaz.com/cuisine-du-monde-p282\")"
   ]
  },
  {
   "cell_type": "code",
   "execution_count": 23,
   "metadata": {},
   "outputs": [
    {
     "data": {
      "text/plain": [
       "'https://www.cuisineaz.com/cuisine-du-monde/allemagne-p259'"
      ]
     },
     "execution_count": 23,
     "metadata": {},
     "output_type": "execute_result"
    }
   ],
   "source": []
  },
  {
   "cell_type": "markdown",
   "metadata": {},
   "source": [
    "# How many region in the pays ?"
   ]
  },
  {
   "cell_type": "code",
   "execution_count": 20,
   "metadata": {},
   "outputs": [],
   "source": [
    "def get_page_pays(urls_pays:str) -> int:\n",
    "    str_page = _soupage(urls_pays).find_all(\"a\", \"lienPagination\")[-1].text\n",
    "    nb_page = int(re.findall(r'\\d+', str_page)[0])\n",
    "    return nb_page"
   ]
  },
  {
   "cell_type": "markdown",
   "metadata": {},
   "source": [
    "for url in urls_pays:\n",
    "    print(get_page_pays(url))"
   ]
  },
  {
   "cell_type": "code",
   "execution_count": 14,
   "metadata": {},
   "outputs": [],
   "source": [
    "nb_page = get_page_pays(urls_pays)"
   ]
  },
  {
   "cell_type": "markdown",
   "metadata": {},
   "source": [
    "# Inside pays"
   ]
  },
  {
   "cell_type": "code",
   "execution_count": 15,
   "metadata": {},
   "outputs": [],
   "source": [
    "lien = urls_pays[0]"
   ]
  },
  {
   "cell_type": "code",
   "execution_count": 16,
   "metadata": {},
   "outputs": [
    {
     "data": {
      "text/plain": [
       "'https://www.cuisineaz.com/cuisine-du-monde/allemagne-p259'"
      ]
     },
     "execution_count": 16,
     "metadata": {},
     "output_type": "execute_result"
    }
   ],
   "source": [
    "lien"
   ]
  },
  {
   "cell_type": "code",
   "execution_count": null,
   "metadata": {},
   "outputs": [],
   "source": [
    "def get_url_pays(lien:str) -> list[str]:\n",
    "    urls_in_pays = []\n",
    "    for page in range(1,int(nb_page) + 1):\n",
    "        urls_in_pays.append(lien + f\"/{page}/\")\n",
    "    return urls_in_pays"
   ]
  },
  {
   "cell_type": "code",
   "execution_count": null,
   "metadata": {},
   "outputs": [
    {
     "ename": "NameError",
     "evalue": "name 'lien' is not defined",
     "output_type": "error",
     "traceback": [
      "\u001b[1;31m---------------------------------------------------------------------------\u001b[0m",
      "\u001b[1;31mNameError\u001b[0m                                 Traceback (most recent call last)",
      "Cell \u001b[1;32mIn[7], line 1\u001b[0m\n\u001b[1;32m----> 1\u001b[0m urls_in_pays\u001b[38;5;241m=\u001b[39m get_url_pays(\u001b[43mlien\u001b[49m)\n\u001b[0;32m      2\u001b[0m urls_in_pays\n",
      "\u001b[1;31mNameError\u001b[0m: name 'lien' is not defined"
     ]
    }
   ],
   "source": [
    "urls_in_pays= get_url_pays(lien)\n",
    "urls_in_pays"
   ]
  },
  {
   "cell_type": "code",
   "execution_count": null,
   "metadata": {},
   "outputs": [],
   "source": [
    "def get_url_recette(urls_in_pays:str) -> list[str]:\n",
    "    recettes_pays = []\n",
    "    for url in urls_in_pays:\n",
    "        blocs  = _soupage(url).find_all(\"section\", class_ = \"block-primary tiles --col-2 md:--col-4\")\n",
    "        for bloc in blocs:\n",
    "            recettes = bloc.find_all(\"article\")\n",
    "            for recette in recettes:\n",
    "                href = recette.find(\"a\").get(\"href\")\n",
    "                recettes_pays.append(\"https://www.cuisineaz.com\" + href)\n",
    "    return list(np.unique(recettes_pays))"
   ]
  },
  {
   "cell_type": "code",
   "execution_count": null,
   "metadata": {},
   "outputs": [],
   "source": [
    "lien_recette_pays = get_url_recette(urls_in_pays)"
   ]
  },
  {
   "cell_type": "code",
   "execution_count": null,
   "metadata": {},
   "outputs": [
    {
     "name": "stdout",
     "output_type": "stream",
     "text": [
      "Recette(nom='Alcool de pomme de terre', note=None, temps='5 h ', niveau='Difficile', cout='0,77', nb_comment='0')\n",
      "Recette(nom='Biscuits allemands de Noël', note=None, temps='52 min', niveau='Facile', cout='0,72', nb_comment='9')\n",
      "Recette(nom='Biscuits bretzels apéritifs', note=None, temps='35 min', niveau='Facile', cout='0,40', nb_comment='1')\n",
      "Recette(nom='Biscuits de Noël allemands (Lebkuchen)', note=None, temps='30 min', niveau='Facile', cout='0,75', nb_comment='1')\n",
      "Recette(nom='Boule de berlin à la crème pâtissière', note=None, temps='15 min', niveau='Intermédiaire', cout='0,71', nb_comment='0')\n",
      "Recette(nom='Boulettes de viande hachée', note=None, temps='30 min', niveau='Facile', cout='1,60', nb_comment='2')\n",
      "Recette(nom='Bretzel', note=None, temps='55 min', niveau='Facile', cout='0,75', nb_comment='1')\n",
      "Recette(nom='Bretzels au Kitchenaid', note=None, temps='1 h ', niveau='Facile', cout='\\n\\n\\n', nb_comment='0')\n",
      "Recette(nom='Brioche butchy au Monsieur Cuisine', note=None, temps='45 min', niveau='Facile', cout='\\n\\n\\n', nb_comment='0')\n",
      "Recette(nom='Bûche de Noël forêt noire', note=None, temps='2 h 22 min', niveau='Intermédiaire', cout='1,80', nb_comment='1')\n",
      "Recette(nom='Choucroute simplissime', note=None, temps='4 h ', niveau='Facile', cout='4,63', nb_comment='1')\n",
      "Recette(nom=\"Coeurs d'amande au chocolat à l'allemande\", note=None, temps='30 min', niveau='Facile', cout='1,55', nb_comment='0')\n",
      "Recette(nom='crêpes Allemandes', note=None, temps='25 min', niveau='Facile', cout='0,86', nb_comment='0')\n",
      "Recette(nom='Currywurst ou saucisses au curry allemandes', note=None, temps='45 min', niveau='Facile', cout='1,70', nb_comment='2')\n",
      "Recette(nom='Desserts Allemands', note=None, temps='55 min', niveau='Facile', cout='1,84', nb_comment='1')\n",
      "Recette(nom='Dibbelabbes', note=None, temps='35 min', niveau='Facile', cout='2,40', nb_comment='0')\n",
      "Recette(nom='Eisbein', note=None, temps='2 h ', niveau='Facile', cout='3,86', nb_comment='0')\n",
      "Recette(nom='Escalope à la viennoise Schnitzel', note=None, temps='1 h ', niveau='Facile', cout='1,70', nb_comment='0')\n",
      "Recette(nom='Forêt noire', note=None, temps='1 h 25 min', niveau='Difficile', cout='1,78', nb_comment='1')\n",
      "Recette(nom='Forêt noire aux cerises noires', note=None, temps='1 h 30 min', niveau='Intermédiaire', cout='1,96', nb_comment='40')\n",
      "Recette(nom='Forêt noire maison', note=None, temps='1 h 5 min', niveau='Intermédiaire', cout='1,90', nb_comment='3')\n",
      "Recette(nom=\"Galettes de pommes de terre à l'allemande\", note=None, temps='30 min', niveau='Facile', cout='0,67', nb_comment='5')\n",
      "Recette(nom='Jarret de porc au chou vert', note=None, temps='2 h 45 min', niveau='Facile', cout='2,50', nb_comment='0')\n",
      "Recette(nom=\"Kaiserschmarren ou crêpe de l'empereur aux cranberries séchées\", note=None, temps='1 h 20 min', niveau='Facile', cout='1,32', nb_comment='0')\n",
      "Recette(nom='Kartoffelsalat', note=None, temps='45 min', niveau='Facile', cout='1,80', nb_comment='1')\n",
      "Recette(nom='Knödel (plat autrichien variante salée à base de pain)', note=None, temps='25 min', niveau='Facile', cout='0,87', nb_comment='0')\n",
      "Recette(nom=\"Lapin à l'Allemande\", note=None, temps='40 min', niveau='Facile', cout='2,50', nb_comment='0')\n",
      "Recette(nom=\"Marzipanstollen, pain de Noël allemand aux fruits confits et pâte d'amandes\", note=None, temps='1 h 25 min', niveau='Facile', cout='1,67', nb_comment='0')\n",
      "Recette(nom='Maultaschen', note=None, temps='1 h 10 min', niveau='Facile', cout='1,71', nb_comment='0')\n",
      "Recette(nom='Pâtes allemandes', note=None, temps='15 min', niveau='Facile', cout='1,87', nb_comment='0')\n",
      "Recette(nom='Salade de pommes de terre froide', note=None, temps='30 min', niveau='Facile', cout='1,23', nb_comment='22')\n",
      "Recette(nom='Sauce allemande', note=None, temps='25 min', niveau='Facile', cout='0,48', nb_comment='1')\n",
      "Recette(nom='Schwobenbradele ou petits sablés allemands maison', note=None, temps='25 min', niveau='Intermédiaire', cout='0,67', nb_comment='2')\n",
      "Recette(nom='Semmelknödel (boulettes de pain allemandes)', note=None, temps='37 min', niveau='Facile', cout='\\n\\n\\n', nb_comment='1')\n",
      "Recette(nom='Spaetzle', note=None, temps='1 h ', niveau='Facile', cout='0,85', nb_comment='0')\n",
      "Recette(nom='Speckkuchen', note=None, temps='2 h ', niveau='Facile', cout='0,88', nb_comment='0')\n",
      "Recette(nom='Streuselkuchen', note=None, temps='1 h 20 min', niveau='Facile', cout='0,53', nb_comment='0')\n",
      "Recette(nom='Strudel aux pommes', note=None, temps='25 min', niveau='Facile', cout='0,97', nb_comment='10')\n",
      "Recette(nom='Strudel aux pommes Apfelstrudel', note=None, temps='45 min', niveau='Facile', cout='0,97', nb_comment='1')\n",
      "Recette(nom='Turgoule  (riz au lait façon normande)', note=None, temps='4 h 15 min', niveau='Facile', cout='0,85', nb_comment='0')\n"
     ]
    }
   ],
   "source": [
    "for lien in lien_recette_pays:\n",
    "    try:\n",
    "        print(scrap(lien))\n",
    "    except:\n",
    "        pass"
   ]
  },
  {
   "cell_type": "code",
   "execution_count": null,
   "metadata": {},
   "outputs": [],
   "source": [
    "from scraping_az import scrap, _soupage, get_pipeline"
   ]
  },
  {
   "cell_type": "code",
   "execution_count": null,
   "metadata": {},
   "outputs": [
    {
     "ename": "NameError",
     "evalue": "name 'get_pays' is not defined",
     "output_type": "error",
     "traceback": [
      "\u001b[1;31m---------------------------------------------------------------------------\u001b[0m",
      "\u001b[1;31mNameError\u001b[0m                                 Traceback (most recent call last)",
      "Cell \u001b[1;32mIn[3], line 1\u001b[0m\n\u001b[1;32m----> 1\u001b[0m urls_pays \u001b[38;5;241m=\u001b[39m \u001b[43mget_pays\u001b[49m(\u001b[38;5;124m\"\u001b[39m\u001b[38;5;124mhttps://www.cuisineaz.com/cuisine-du-monde-p282\u001b[39m\u001b[38;5;124m\"\u001b[39m)\n\u001b[0;32m      2\u001b[0m nb_page \u001b[38;5;241m=\u001b[39m get_page_pays(urls_pays)\n\u001b[0;32m      3\u001b[0m urls_in_pays \u001b[38;5;241m=\u001b[39m get_url_pays(urls_pays[\u001b[38;5;241m0\u001b[39m], nb_page)\n",
      "\u001b[1;31mNameError\u001b[0m: name 'get_pays' is not defined"
     ]
    }
   ],
   "source": [
    "urls_pays = get_pays(\"https://www.cuisineaz.com/cuisine-du-monde-p282\")\n",
    "nb_page = get_page_pays(urls_pays)\n",
    "urls_in_pays = get_url_pays(urls_pays[0], nb_page)\n",
    "lien_recette_pays = get_url_recette(urls_in_pays)\n",
    "for lien in lien_recette_pays:\n",
    "    try:\n",
    "        print(scrap(lien))\n",
    "    except:\n",
    "        pass"
   ]
  }
 ],
 "metadata": {
  "kernelspec": {
   "display_name": "Python 3",
   "language": "python",
   "name": "python3"
  },
  "language_info": {
   "codemirror_mode": {
    "name": "ipython",
    "version": 3
   },
   "file_extension": ".py",
   "mimetype": "text/x-python",
   "name": "python",
   "nbconvert_exporter": "python",
   "pygments_lexer": "ipython3",
   "version": "3.11.1"
  }
 },
 "nbformat": 4,
 "nbformat_minor": 2
}
